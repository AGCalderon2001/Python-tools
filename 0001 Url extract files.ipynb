{
 "cells": [
  {
   "cell_type": "code",
   "execution_count": 35,
   "metadata": {},
   "outputs": [],
   "source": [
    "# En este ejemplo se busca obtener todos los archivos .zip que se encuentran en una url específica\n",
    "\n",
    "import requests\n",
    "import os\n",
    "\n",
    "# La lista se obtiene inspeccionando el código de la url\n",
    "# directorio es en donde en donde se encuentra lista.txt\n",
    "directorio = 'D:\\AGC\\Documentos\\Capacitacion\\Practica Python\\Indigogo'\n",
    "\n",
    "# lista.txt contiene la lista de urls de los archivos a obtener\n",
    "# Por ejemplo: href=https://s3.amazonaws.com/weruns/forfun/Indiegogo/Indiegogo_2020-11-13T10_41_00_593Z.zip>CSV</a>]</li><li>2020-10-16 [<a\n",
    "archivos = os.path.join(directorio, 'lista.txt') \n",
    "archivo = open(archivos, 'r')\n",
    "\n",
    "ini_url = 5\n",
    "ini_linea = 54\n",
    "fin = 92\n",
    "\n",
    "for linea in archivo.readlines():\n",
    "    if 'zip' in linea:\n",
    "        zip_nombre = linea[ini:fin]\n",
    "        url = linea[ini_url:fin]\n",
    "        zip_local = os.path.join(directorio, zip_nombre)\n",
    "#         print(url, zip_nombre, zip_local)\n",
    "        myfile = requests.get(url)\n",
    "        open(zip_local, 'wb').write(myfile.content)\n",
    "        \n",
    "archivo.close() \n"
   ]
  }
 ],
 "metadata": {
  "kernelspec": {
   "display_name": "Python 3",
   "language": "python",
   "name": "python3"
  },
  "language_info": {
   "codemirror_mode": {
    "name": "ipython",
    "version": 3
   },
   "file_extension": ".py",
   "mimetype": "text/x-python",
   "name": "python",
   "nbconvert_exporter": "python",
   "pygments_lexer": "ipython3",
   "version": "3.7.5"
  }
 },
 "nbformat": 4,
 "nbformat_minor": 4
}

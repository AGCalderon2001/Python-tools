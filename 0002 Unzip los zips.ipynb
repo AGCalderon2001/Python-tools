{
 "cells": [
  {
   "cell_type": "code",
   "execution_count": 4,
   "metadata": {},
   "outputs": [],
   "source": [
    "from zipfile import ZipFile\n",
    "import os\n",
    "import shutil\n",
    "\n",
    "directorio = 'D:\\AGC\\Documentos\\Capacitacion\\Practica Python\\Indigogo'\n",
    "definitivo = 'D:\\AGC\\Documentos\\Capacitacion\\Practica Python\\Indigogo\\definitivo' \n",
    "destino = 'D:\\AGC\\Documentos\\Capacitacion\\Practica Python\\Indigogo\\csv'\n",
    "\n",
    "\n",
    "for zips in os.listdir(directorio):\n",
    "    if '.zip' in zips:\n",
    "        archivos = os.path.join(directorio, zips)\n",
    "#         print(zips[:34])\n",
    "\n",
    "        with ZipFile(archivos, 'r') as zipObj:\n",
    "            zipObj.extractall(destino)\n",
    "\n",
    "        for f in os.listdir(destino):\n",
    "#             print(\"        \", f)\n",
    "            g = os.path.join(destino, f)\n",
    "            os.rename(g, g.replace('Indiegogo', f'{zips[:34]}_Indiegogo'))\n",
    "\n",
    "        for f in os.listdir(destino):\n",
    "            g = os.path.join(destino, f)\n",
    "            shutil.move(g, definitivo)\n",
    "\n",
    "        shutil.rmtree(destino)"
   ]
  }
 ],
 "metadata": {
  "kernelspec": {
   "display_name": "Python 3",
   "language": "python",
   "name": "python3"
  },
  "language_info": {
   "codemirror_mode": {
    "name": "ipython",
    "version": 3
   },
   "file_extension": ".py",
   "mimetype": "text/x-python",
   "name": "python",
   "nbconvert_exporter": "python",
   "pygments_lexer": "ipython3",
   "version": "3.7.5"
  }
 },
 "nbformat": 4,
 "nbformat_minor": 4
}
